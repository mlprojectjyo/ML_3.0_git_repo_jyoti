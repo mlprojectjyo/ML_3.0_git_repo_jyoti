{
 "cells": [
  {
   "cell_type": "code",
   "execution_count": 5,
   "id": "bd58d61f",
   "metadata": {},
   "outputs": [],
   "source": [
    "# 1. Import the necessary modules:\n",
    "from pyspark.sql import SparkSession\n",
    "from pyspark.sql.types import StructType, StructField, StringType, IntegerType"
   ]
  },
  {
   "cell_type": "code",
   "execution_count": 6,
   "id": "57b5e556",
   "metadata": {},
   "outputs": [],
   "source": [
    "# 2. Create a SparkSession:\n",
    "\n",
    "spark = SparkSession.builder \\\n",
    ".appName(\"DataFrame Creation ML3.0 jyoti\") \\\n",
    ".getOrCreate()"
   ]
  },
  {
   "cell_type": "code",
   "execution_count": 9,
   "id": "97c82871",
   "metadata": {},
   "outputs": [],
   "source": [
    "# 3. Define the schema for your dataset:\n",
    "\n",
    "schema = StructType([\n",
    "StructField(\"Sales_ID\", IntegerType(), True),\n",
    "StructField(\"name\", StringType(), True),\n",
    "StructField(\"year\", IntegerType(), True),\n",
    "StructField(\"selling_price\", IntegerType(), True),\n",
    "StructField(\"km_driven\", IntegerType(), True),\n",
    "StructField(\"Region\", StringType(), True),\n",
    "StructField(\"State\", StringType(), True),\n",
    "StructField(\"City\", StringType(), True),\n",
    "StructField(\"fuel\", StringType(), True),\n",
    "StructField(\"seller_type\", StringType(), True),\n",
    "StructField(\"transmission\", StringType(), True),\n",
    "StructField(\"owner\", StringType(), True),\n",
    "StructField(\"mileage\", IntegerType(), True),\n",
    "StructField(\"engine\", IntegerType(), True),\n",
    "StructField(\"max_power\", IntegerType(), True),\n",
    "StructField(\"seats\", IntegerType(), True),\n",
    "StructField(\"sold\", IntegerType(), True)\n",
    "])"
   ]
  },
  {
   "cell_type": "code",
   "execution_count": null,
   "id": "69bb1077",
   "metadata": {},
   "outputs": [],
   "source": [
    "# 4. Create an RDD (Resilient Distributed Dataset) from your data:\n",
    "\n",
    "data = [(\"John\", 25, \"New York\"),\n",
    "(\"Jane\", 30, \"Los Angeles\"),\n",
    "(\"Mike\", 35, \"Chicago\")]\n",
    "rdd = spark.sparkContext.parallelize(data)\n",
    "\n",
    "# df=spark.read.format(\"csv\").option(\"header\",\"true\").load(/home/ec2-user/SageMaker/ML_3.0_git_repo_jyoti/)"
   ]
  },
  {
   "cell_type": "code",
   "execution_count": null,
   "id": "13c877f6",
   "metadata": {},
   "outputs": [],
   "source": [
    "# 5. Convert the RDD to a DataFrame using the defined schema:\n",
    "\n",
    "df = spark.createDataFrame(rdd, schema)"
   ]
  },
  {
   "cell_type": "code",
   "execution_count": null,
   "id": "41bddc36",
   "metadata": {},
   "outputs": [],
   "source": [
    "# 6. Show the contents of the DataFrame:\n",
    "df.show()"
   ]
  }
 ],
 "metadata": {
  "kernelspec": {
   "display_name": "conda_python3",
   "language": "python",
   "name": "conda_python3"
  },
  "language_info": {
   "codemirror_mode": {
    "name": "ipython",
    "version": 3
   },
   "file_extension": ".py",
   "mimetype": "text/x-python",
   "name": "python",
   "nbconvert_exporter": "python",
   "pygments_lexer": "ipython3",
   "version": "3.10.10"
  }
 },
 "nbformat": 4,
 "nbformat_minor": 5
}
